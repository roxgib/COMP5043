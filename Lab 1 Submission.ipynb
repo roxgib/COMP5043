{
  "cells": [
    {
      "cell_type": "markdown",
      "metadata": {},
      "source": [
        "# Exercise\n",
        "Please complete the following **two questions** E1 and E2. **You should submit an \"ipynb\" file to Canvas**  (When you have completed your answer here you can download it using \"File\" > \"Download .ipynb\")."
      ]
    },
    {
      "cell_type": "markdown",
      "metadata": {},
      "source": [
        "## E1. What are two limitations of using one-hot encoding?"
      ]
    },
    {
      "cell_type": "code",
      "execution_count": 21,
      "metadata": {
        "cellView": "form",
        "id": "jMj_HobwXgR8"
      },
      "outputs": [],
      "source": [
        "#Lab01 - E1\n",
        "\n",
        "Answer = \"\"\"There are two significant limits to using one-hot encoding:\n",
        "    - One-hot encoding produces high-dimensional, sparse matrices that perform poorly or slowly with many common machine learning methods, including those common in natural language processing.\n",
        "    - For NLP in particular, one-hot encoding leaves no way to represent word similarity.\n",
        "\"\"\" #@param {type:\"raw\"}"
      ]
    },
    {
      "cell_type": "markdown",
      "metadata": {
        "id": "QrR8UAazCmhh"
      },
      "source": [
        "## E2. Calculate TF-IDF and search the Wiki page."
      ]
    },
    {
      "cell_type": "markdown",
      "metadata": {
        "id": "QeabiwhlCp1r"
      },
      "source": [
        "In this exercise, we will practise TF-IDF calculation using documents from [wikipedia library](https://pypi.org/project/wikipedia/), which is a Python library that makes it easy to access and parse data from Wikipedia. Based on the calculated TF-IDF, we then search the Wiki page for the word that has the top-1 TF-IDF value."
      ]
    },
    {
      "cell_type": "code",
      "execution_count": 22,
      "metadata": {
        "id": "zolBqIYrC4zP"
      },
      "outputs": [
        {
          "name": "stdout",
          "output_type": "stream",
          "text": [
            "Collecting package metadata (current_repodata.json): done\n",
            "Solving environment: done\n",
            "\n",
            "# All requested packages already installed.\n",
            "\n",
            "\n",
            "Note: you may need to restart the kernel to use updated packages.\n"
          ]
        }
      ],
      "source": [
        "try:\n",
        "    %conda install wikipedia\n",
        "except:\n",
        "    %pip3 install wikipedia"
      ]
    },
    {
      "cell_type": "code",
      "execution_count": 30,
      "metadata": {},
      "outputs": [
        {
          "name": "stdout",
          "output_type": "stream",
          "text": [
            "Total docs in documents 3\n",
            "The word with top-1 TF-IDF value is: queensland (67.93)\n",
            "The retreived wikpage content:\n",
            "\n",
            "=== Queensland ===\n",
            "Queensland (locally , KWEENZ-land) is a state situated in northeastern Australia, and is the second-largest and third-most populous Australian state. It is bordered by the Northern Territory, South Australia, and New South Wales to the west, south-west and south respectively. To the east, Queensland is bordered by the Coral Sea and the Pacific Ocean. To its north is the Torres Strait, separating the Australian mainland from Papua New Guinea. With an area of 1,852,642 square kilometres (715,309 sq mi), Queensland is the world's sixth-largest sub-national entity, and is larger than all but 15 countries. Due to its size, Queensland's geographical features and climates are diverse, including tropical rainforests, rivers, coral reefs, mountain ranges and sandy beaches in its tropical and sub-tropical coastal regions, as well as deserts and savanna in the semi-arid and desert climatic regions of its interior.\n",
            "Queensland has a population of over 5.2 million, concentrated along the coast and particularly in South East Queensland. The capital and largest city in the state is Brisbane, Australia's third-largest city. Ten of Australia's thirty largest cities are located in Queensland, with the largest outside Brisbane being the Gold Coast, the Sunshine Coast, Townsville, Cairns and Toowoomba. The state's population is multicultural, with 28.9% of inhabitants being immigrants.Queensland was first inhabited by Aboriginal Australians and Torres Strait Islanders. Dutch navigator Willem Janszoon, the first European to land in Australia, explored the west coast of the Cape York Peninsula in 1606. In 1770, James Cook claimed the east coast of Australia for the Kingdom of Great Britain. In 1788, Arthur Phillip founded the colony of New South Wales, which included all of what is now Queensland. Queensland was explored in subsequent decades, and the Moreton Bay Penal Settlement was established at Brisbane in 1824 by John Oxley. Queensland was separated from New South Wales on 6 June 1859 (now commemorated as Queensland Day), thereby establishing Queensland as a self-governing Crown colony with responsible government, named in honour of Queen Victoria. Queensland was among the six colonies which became the founding states of Australia with Federation on 1 January 1901. Since the Bjelke-Petersen era of the late 20th century, Queensland has received a high level of internal migration from the other states and territories of Australia and remains a popular destination for interstate migration.\n",
            "Queensland has the third-largest economy among Australian states, with strengths in mining, agriculture, transportation, international education, insurance and banking. Nicknamed the Sunshine State for its tropical and sub-tropical climates, Great Barrier Reef and numerous beaches, tourism is also important to the state's economy.\n",
            "\n",
            "\n",
            "== History ==\n",
            "\n",
            "\n",
            "=== Indigenous history ===\n",
            "\n",
            "The Aboriginal occupation of Queensland is thought to predate 50,000 BC, likely via boat or land bridge across Torres Strait, and became divided into over 90 different language groups.\n",
            "During the last ice age Queensland's landscape became arider and largely desolate, making food and other supplies scarce. This led to the world's first seed-grinding technology.[Source?] Warming again made the land hospitable, as it brought high rainfall along the eastern coast, stimulating the growth of the state's tropical rainforests.\n",
            "\n",
            "\n",
            "=== European colonisation ===\n",
            "\n",
            "In February 1606, Dutch navigator Willem Janszoon landed near the site of what is now Weipa, on the western shore of Cape York. This was the first recorded landing of a European in Australia, and it also marked the first reported contact between European and Aboriginal Australian people. The region was also explored by French and Spanish explorers (commanded by Louis Antoine de Bougainville and Luís Vaez de Torres, respectively) prior to the arrival of Lieutenant James Cook in 1770. Cook claimed the east coast under instruction from King George III of the Kingdom of Great Britain on 22 August 1770 at Possession Island, naming Eastern Australia, including Queensland, 'New South Wales'.The Aboriginal population declined significantly after a smallpox epidemic during the late 18th century. There has been controversy regarding the origins of smallpox in Australia; while many sources have claimed that it originated with European colonisation, this theory has been contradicted by scientific evidence. There is circumstantial evidence that Macassan mariners visiting Arnhem Land introduced smallpox to Australia.In 1823, John Oxley, a British explorer, sailed north from what is now Sydney to scout possible penal colony sites in Gladstone (then Port Curtis) and Moreton Bay. At Moreton Bay, he found the Brisbane River. He returned in 1824 and established a penal settlement at what is now Redcliffe. The settlement, initially known as Edenglassie, was then transferred to the current location of the Brisbane city centre. Edmund Lockyer di\n"
          ]
        }
      ],
      "source": [
        "## Import packages:\n",
        "import re\n",
        "from collections import defaultdict\n",
        "from math import log\n",
        "\n",
        "import numpy as np\n",
        "import wikipedia\n",
        "from nltk import word_tokenize\n",
        "from nltk.corpus import stopwords as sw\n",
        "\n",
        "# Prepare data\n",
        "cities = [\"Sydney\",\"Melbourne\",\"Brisbane\"]\n",
        "corpus = [wikipedia.page(city).content for city in cities]\n",
        "\n",
        "stopwords = sw.words('english')\n",
        "stopwords.extend([city.lower() for city in cities])\n",
        "\n",
        "## TF-IDF-oriented function:\n",
        "def tfidf_wikisearch(corpus):\n",
        "  if not hasattr(corpus, '__iter__'):\n",
        "    corpus = [corpus]\n",
        "\n",
        "  tf_idf = {}\n",
        "\n",
        "  # process the documents \n",
        "  t_corpus = list()\n",
        "  for doc in corpus:\n",
        "    t_corpus.append([\n",
        "      word for word \n",
        "      in word_tokenize(re.sub(r'[^\\w\\s]','',doc).lower()) \n",
        "      if word not in stopwords\n",
        "    ])\n",
        "\n",
        "  # calculate document frequency\n",
        "  DF = defaultdict(int)\n",
        "  for doc in t_corpus:\n",
        "    for word in np.unique(doc):\n",
        "      DF[word] += 1\n",
        "\n",
        "  # calculate the TF-IDF values for each unique words\n",
        "  N = len(corpus)\n",
        "  doc_id = 0\n",
        "  for doc in t_corpus:\n",
        "    for word in DF:\n",
        "      tf = doc.count(word)\n",
        "      idf = log(N/(DF[word]+1)+1)\n",
        "      tf_idf[doc_id, word] = tf*idf\n",
        "\n",
        "    doc_id += 1\n",
        "\n",
        "  # sorting the words based on the TF-IDF valuse and get the word with top-1 TF-IDF value\n",
        "\n",
        "  sorted_tf_idf = [\n",
        "    (doc, word, freq) \n",
        "    for ((doc, word), freq)\n",
        "    in sorted(tf_idf.items(), key=lambda x: x[1], reverse = True)\n",
        "  ]\n",
        "\n",
        "  # search the wiki page for this word and print out the page content \n",
        "\n",
        "  doc, most_common_word, freq = sorted_tf_idf[0]\n",
        "  print(\"Total docs in documents\", len(corpus))\n",
        "  print(\"The word with top-1 TF-IDF value is:\", most_common_word, f\"({freq:.2f})\")\n",
        "  print(\"The retreived wikpage content:\")\n",
        "  print()\n",
        "  print(\"===\", wikipedia.page(most_common_word).title, \"===\")\n",
        "  print(wikipedia.page(most_common_word).content[:5000])\n",
        "\n",
        "  return tf_idf\n",
        " \n",
        "# Call the funtion, the execution print out log should be kept for submission\n",
        "result = tfidf_wikisearch(corpus)\n"
      ]
    }
  ],
  "metadata": {
    "accelerator": "GPU",
    "colab": {
      "collapsed_sections": [
        "lONWx3FtSwWJ",
        "P4rd7JPrr4sc",
        "rJfYbAtPrMNS"
      ],
      "include_colab_link": true,
      "name": "COMP5046_Lab01.ipynb",
      "provenance": [],
      "toc_visible": true
    },
    "kernelspec": {
      "display_name": "Python 3",
      "name": "python3"
    },
    "language_info": {
      "codemirror_mode": {
        "name": "ipython",
        "version": 3
      },
      "file_extension": ".py",
      "mimetype": "text/x-python",
      "name": "python",
      "nbconvert_exporter": "python",
      "pygments_lexer": "ipython3",
      "version": "3.9.7"
    }
  },
  "nbformat": 4,
  "nbformat_minor": 0
}
